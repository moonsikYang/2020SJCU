{
  "nbformat": 4,
  "nbformat_minor": 0,
  "metadata": {
    "colab": {
      "name": "상관관계_상관계수.ipynb",
      "private_outputs": true,
      "provenance": [],
      "authorship_tag": "ABX9TyML47n72+cCJHxb7UYH+lve",
      "include_colab_link": true
    },
    "kernelspec": {
      "name": "python3",
      "display_name": "Python 3"
    },
    "language_info": {
      "name": "python"
    }
  },
  "cells": [
    {
      "cell_type": "markdown",
      "metadata": {
        "id": "view-in-github",
        "colab_type": "text"
      },
      "source": [
        "<a href=\"https://colab.research.google.com/github/moonsikYang/2020SJCU/blob/main/%EC%83%81%EA%B4%80%EA%B4%80%EA%B3%84_%EC%83%81%EA%B4%80%EA%B3%84%EC%88%98.ipynb\" target=\"_parent\"><img src=\"https://colab.research.google.com/assets/colab-badge.svg\" alt=\"Open In Colab\"/></a>"
      ]
    },
    {
      "cell_type": "code",
      "metadata": {
        "id": "Gatp2GiV_6dQ"
      },
      "source": [
        "from numpy import mean\n",
        "from numpy import std\n",
        "from matplotlib import pyplot\n",
        "\n",
        "data1 = [94,95,107,108,116,117,122,125,128,129,124,141]\n",
        "\n",
        "data2 = [97,100,106,119,111,117,121,124,116,131,125,127]\n",
        "\n",
        "\n",
        "pyplot.scatter(data1,data2)\n",
        "pyplot.show()\n",
        "\n",
        "\n",
        "mean(data1)\n",
        "print(mean(data1))\n",
        "\n",
        "std(data1)\n",
        "print(std(data1))\n",
        " \n",
        "\n",
        "mean(data2)\n",
        "print(mean(data2))\n",
        " \n",
        "std(data2)\n",
        "print(std(data2))\n",
        " \n",
        "\n",
        "from scipy.stats import pearsonr\n",
        "\n",
        "\n",
        "correlation = pearsonr(data1, data2)\n",
        "print(correlation)\n",
        "\n",
        "\n",
        "from scipy.stats import spearmanr\n",
        "\n",
        "correlation = spearmanr(data1, data2)\n",
        "print(correlation)\n",
        "\n"
      ],
      "execution_count": null,
      "outputs": []
    },
    {
      "cell_type": "code",
      "metadata": {
        "id": "yMI9K5QDcw7y"
      },
      "source": [
        "#!/usr/bin/python\n",
        "\n",
        "import matplotlib.pyplot as plt\n",
        "\n",
        "radius = [1.0, 2.0, 3.0, 4.0]\n",
        "area = [3.14159, 12.56636, 28.27431, 50.26544]\n",
        "\n",
        "plt.plot(radius, area)\n",
        "plt.show()"
      ],
      "execution_count": null,
      "outputs": []
    }
  ]
}